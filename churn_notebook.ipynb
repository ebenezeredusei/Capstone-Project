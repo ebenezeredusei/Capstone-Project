{
 "cells": [
  {
   "cell_type": "markdown",
   "id": "41ce5b4a",
   "metadata": {},
   "source": [
    "# INTRODUCTION"
   ]
  },
  {
   "cell_type": "markdown",
   "id": "a1b62509",
   "metadata": {},
   "source": [
    "# 1. Business Understanding"
   ]
  },
  {
   "cell_type": "markdown",
   "id": "9a17b8f8",
   "metadata": {},
   "source": [
    "# 2. Data Understanding\n",
    "\n",
    ">We basically want to understand and predict accurately the reasons for customer churn(leaving) \\\n",
    "and as to when they are likely to leave\n",
    "\n",
    ">The project seeks to identify the likelihood of customers leaving, the key indicators of customer churn,\\\n",
    "and to suggest strategies to help address customer churn rate."
   ]
  },
  {
   "cell_type": "markdown",
   "id": "ef4e0c6c",
   "metadata": {},
   "source": [
    "# 3. Data Preparation"
   ]
  },
  {
   "cell_type": "markdown",
   "id": "4a8d032a",
   "metadata": {},
   "source": [
    "# 4. Modeling"
   ]
  },
  {
   "cell_type": "markdown",
   "id": "8ee7c532",
   "metadata": {},
   "source": [
    "# 5. Evaluation."
   ]
  }
 ],
 "metadata": {
  "kernelspec": {
   "display_name": "Python 3 (ipykernel)",
   "language": "python",
   "name": "python3"
  },
  "language_info": {
   "codemirror_mode": {
    "name": "ipython",
    "version": 3
   },
   "file_extension": ".py",
   "mimetype": "text/x-python",
   "name": "python",
   "nbconvert_exporter": "python",
   "pygments_lexer": "ipython3",
   "version": "3.9.12"
  }
 },
 "nbformat": 4,
 "nbformat_minor": 5
}
